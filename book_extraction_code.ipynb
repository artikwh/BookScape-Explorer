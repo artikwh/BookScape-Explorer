{
 "cells": [
  {
   "cell_type": "code",
   "execution_count": 40,
   "id": "b856ef9a-83e1-4677-8334-c2fe25da845c",
   "metadata": {},
   "outputs": [],
   "source": [
    "import requests\n",
    "import pandas as pd"
   ]
  },
  {
   "cell_type": "code",
   "execution_count": 41,
   "id": "de92bb00-5c9f-46d6-9c37-751ea43d895a",
   "metadata": {},
   "outputs": [],
   "source": [
    "api_key = \"api_key\""
   ]
  },
  {
   "cell_type": "code",
   "execution_count": 42,
   "id": "29207813-50ae-4d33-8432-7ed3ab400f36",
   "metadata": {},
   "outputs": [],
   "source": [
    "def fetch_books(query, api_key, max_results=10):\n",
    "    \"\"\"\n",
    "    Fetch book data from Google Books API with pagination.\n",
    "\n",
    "    Args:\n",
    "        query (str): Search term or keyword (e.g., \"data science\").\n",
    "        api_key (str): Your Google Books API key.\n",
    "        max_results (int): Total number of books to fetch (max 200).\n",
    "\n",
    "    Returns:\n",
    "        list: A list of book details.\n",
    "    \"\"\"\n",
    "    books = []  # List to store book data\n",
    "    url = \"https://www.googleapis.com/books/v1/volumes\"\n",
    "    start_index = 0\n",
    "    max_per_request = 40  # API's limit per request\n",
    "\n",
    "    while start_index < max_results:\n",
    "        # Define parameters for the current request\n",
    "        params = {\n",
    "            \"q\": query,\n",
    "            \"key\": api_key,\n",
    "            \"startIndex\": start_index,\n",
    "            \"maxResults\": min(max_per_request, max_results - start_index),\n",
    "        }\n",
    "\n",
    "        # Make API request\n",
    "        response = requests.get(url, params=params)\n",
    "        if response.status_code != 200:\n",
    "            print(f\"Error: {response.status_code} - {response.text}\")\n",
    "            break\n",
    "\n",
    "        # Parse response\n",
    "        data = response.json()\n",
    "        items = data.get(\"items\", [])\n",
    "        if not items:\n",
    "            print(\"No more data to fetch.\")\n",
    "            break\n",
    "\n",
    "        # Append book data to the list\n",
    "        for item in items:\n",
    "            volume_info = item.get(\"volumeInfo\", {})\n",
    "            sale_info = item.get(\"saleInfo\", {})\n",
    "            books.append({\n",
    "                \"book_id\": item.get(\"id\", \"\"),\n",
    "                \"search_key\": query,\n",
    "                \"book_title\": volume_info.get(\"title\", \"\"),\n",
    "                \"book_subtitle\": volume_info.get(\"subtitle\", \"NA\"),\n",
    "                \"book_authors\": \", \".join(volume_info.get(\"authors\", [])),\n",
    "                \"book_publisher\": volume_info.get(\"publisher\", \"\"),                \n",
    "                \"industryIdentifiers\": volume_info.get(\"industryIdentifiers\", [{}])[0].get(\"type\", \"\"),\n",
    "                \"text_readingModes\": volume_info.get(\"readingModes\", {}).get(\"text\", False),\n",
    "                \"image_readingModes\": volume_info.get(\"readingModes\", {}).get(\"image\", False),\n",
    "                \"categories\": \", \".join(volume_info.get(\"categories\", [])),\n",
    "                \"published_year\": volume_info.get(\"publishedDate\", \"\")[:4] if volume_info.get(\"publishedDate\", \"\") else \"\",\n",
    "                \"saleability\": sale_info.get(\"saleability\", \"\"),\n",
    "                \"list_price\": sale_info.get(\"listPrice\", {}).get(\"amount\", 0.0),\n",
    "                \"currencyCode_listPrice\": sale_info.get(\"listPrice\", {}).get(\"currencyCode\", \"\"),\n",
    "                \"retail_price\": sale_info.get(\"retailPrice\", {}).get(\"amount\", 0.0),\n",
    "                \"currencyCode_retailPrice\": sale_info.get(\"retailPrice\", {}).get(\"currencyCode\", \"\"),\n",
    "                \"average_rating\": volume_info.get(\"averageRating\", 0.0),\n",
    "                \"ratings_count\": volume_info.get(\"ratingsCount\", 0),\n",
    "                \"country\": volume_info.get(\"country\", \"\"),\n",
    "                \"page_count\": volume_info.get(\"pageCount\", 0),\n",
    "                \"language\": volume_info.get(\"language\", \"\"),                \n",
    "                \"is_ebook\": sale_info.get(\"isEbook\", False),                \n",
    "            })\n",
    "\n",
    "        # Increment start index for pagination\n",
    "        start_index += max_per_request\n",
    "\n",
    "    return books\n"
   ]
  },
  {
   "cell_type": "code",
   "execution_count": 43,
   "id": "82071349-0e41-4aa9-829f-51de372e59b2",
   "metadata": {},
   "outputs": [],
   "source": [
    "\"\"\"queries = [\n",
    "    \"html\",\n",
    "    \"javascript\",\n",
    "    \"statics\",\n",
    "    \"artificial intelligence\",\n",
    "    \"sql\"\n",
    "]\n",
    "books_data = []\n",
    "for query in queries:\n",
    "        print(f\"Fetching books for query: {query}\")\n",
    "        all_books = fetch_books(query, api_key)\n",
    "        books_data.extend(all_books)\n",
    "\"\"\"\n",
    "books_data = fetch_books('civics', api_key)"
   ]
  },
  {
   "cell_type": "code",
   "execution_count": 44,
   "id": "babec94d-879d-479d-8170-68c8548129e3",
   "metadata": {},
   "outputs": [
    {
     "data": {
      "text/html": [
       "<div>\n",
       "<style scoped>\n",
       "    .dataframe tbody tr th:only-of-type {\n",
       "        vertical-align: middle;\n",
       "    }\n",
       "\n",
       "    .dataframe tbody tr th {\n",
       "        vertical-align: top;\n",
       "    }\n",
       "\n",
       "    .dataframe thead th {\n",
       "        text-align: right;\n",
       "    }\n",
       "</style>\n",
       "<table border=\"1\" class=\"dataframe\">\n",
       "  <thead>\n",
       "    <tr style=\"text-align: right;\">\n",
       "      <th></th>\n",
       "      <th>book_id</th>\n",
       "      <th>search_key</th>\n",
       "      <th>book_title</th>\n",
       "      <th>book_subtitle</th>\n",
       "      <th>book_authors</th>\n",
       "      <th>book_publisher</th>\n",
       "      <th>industryIdentifiers</th>\n",
       "      <th>text_readingModes</th>\n",
       "      <th>image_readingModes</th>\n",
       "      <th>categories</th>\n",
       "      <th>...</th>\n",
       "      <th>list_price</th>\n",
       "      <th>currencyCode_listPrice</th>\n",
       "      <th>retail_price</th>\n",
       "      <th>currencyCode_retailPrice</th>\n",
       "      <th>average_rating</th>\n",
       "      <th>ratings_count</th>\n",
       "      <th>country</th>\n",
       "      <th>page_count</th>\n",
       "      <th>language</th>\n",
       "      <th>is_ebook</th>\n",
       "    </tr>\n",
       "  </thead>\n",
       "  <tbody>\n",
       "    <tr>\n",
       "      <th>0</th>\n",
       "      <td>EXUWEAAAQBAJ</td>\n",
       "      <td>civics</td>\n",
       "      <td>Excursions 8 History/Civics- (17-18)</td>\n",
       "      <td>NA</td>\n",
       "      <td>No Author</td>\n",
       "      <td>HarperCollins</td>\n",
       "      <td>ISBN_13</td>\n",
       "      <td>False</td>\n",
       "      <td>True</td>\n",
       "      <td>Education</td>\n",
       "      <td>...</td>\n",
       "      <td>276.0</td>\n",
       "      <td>INR</td>\n",
       "      <td>193.2</td>\n",
       "      <td>INR</td>\n",
       "      <td>0.0</td>\n",
       "      <td>0</td>\n",
       "      <td></td>\n",
       "      <td>176</td>\n",
       "      <td>en</td>\n",
       "      <td>True</td>\n",
       "    </tr>\n",
       "    <tr>\n",
       "      <th>1</th>\n",
       "      <td>MHM-EAAAQBAJ</td>\n",
       "      <td>civics</td>\n",
       "      <td>Solutions to FOCUS ON History and CIVICS for C...</td>\n",
       "      <td>NA</td>\n",
       "      <td>I. L. Wanchoo, Arun Kumar, Goyal Brothers Prak...</td>\n",
       "      <td>Goyal Brothers Prakashan</td>\n",
       "      <td></td>\n",
       "      <td>False</td>\n",
       "      <td>True</td>\n",
       "      <td>Juvenile Nonfiction</td>\n",
       "      <td>...</td>\n",
       "      <td>80.0</td>\n",
       "      <td>INR</td>\n",
       "      <td>80.0</td>\n",
       "      <td>INR</td>\n",
       "      <td>0.0</td>\n",
       "      <td>0</td>\n",
       "      <td></td>\n",
       "      <td>33</td>\n",
       "      <td>en</td>\n",
       "      <td>True</td>\n",
       "    </tr>\n",
       "  </tbody>\n",
       "</table>\n",
       "<p>2 rows × 22 columns</p>\n",
       "</div>"
      ],
      "text/plain": [
       "        book_id search_key                                         book_title  \\\n",
       "0  EXUWEAAAQBAJ     civics               Excursions 8 History/Civics- (17-18)   \n",
       "1  MHM-EAAAQBAJ     civics  Solutions to FOCUS ON History and CIVICS for C...   \n",
       "\n",
       "  book_subtitle                                       book_authors  \\\n",
       "0            NA                                          No Author   \n",
       "1            NA  I. L. Wanchoo, Arun Kumar, Goyal Brothers Prak...   \n",
       "\n",
       "             book_publisher industryIdentifiers  text_readingModes  \\\n",
       "0             HarperCollins             ISBN_13              False   \n",
       "1  Goyal Brothers Prakashan                                  False   \n",
       "\n",
       "   image_readingModes           categories  ... list_price  \\\n",
       "0                True            Education  ...      276.0   \n",
       "1                True  Juvenile Nonfiction  ...       80.0   \n",
       "\n",
       "  currencyCode_listPrice  retail_price currencyCode_retailPrice  \\\n",
       "0                    INR         193.2                      INR   \n",
       "1                    INR          80.0                      INR   \n",
       "\n",
       "   average_rating ratings_count  country  page_count language  is_ebook  \n",
       "0             0.0             0                  176       en      True  \n",
       "1             0.0             0                   33       en      True  \n",
       "\n",
       "[2 rows x 22 columns]"
      ]
     },
     "execution_count": 44,
     "metadata": {},
     "output_type": "execute_result"
    }
   ],
   "source": [
    "# Convert to a DataFrame for better organization\n",
    "books_df = pd.DataFrame(books_data)\n",
    "books_df.head(2)"
   ]
  },
  {
   "cell_type": "code",
   "execution_count": 45,
   "id": "e6546ad0-7bfa-4830-8ac4-a1b8555a23d3",
   "metadata": {
    "scrolled": true
   },
   "outputs": [
    {
     "data": {
      "text/plain": [
       "book_id                                                 JwFjDwAAQBAJ\n",
       "search_key                                                    civics\n",
       "book_title                  New Transitions  History and Civics  6\n",
       "book_subtitle                                                     NA\n",
       "book_authors                          Anuradha Sud, Shiladitya Ghosh\n",
       "book_publisher                                Vikas Publishing House\n",
       "industryIdentifiers                                          ISBN_13\n",
       "text_readingModes                                              False\n",
       "image_readingModes                                              True\n",
       "categories                                            Social Science\n",
       "published_year                                                      \n",
       "saleability                                                 FOR_SALE\n",
       "list_price                                                     584.1\n",
       "currencyCode_listPrice                                           INR\n",
       "retail_price                                                  292.05\n",
       "currencyCode_retailPrice                                         INR\n",
       "average_rating                                                   5.0\n",
       "ratings_count                                                      1\n",
       "country                                                             \n",
       "page_count                                                       199\n",
       "language                                                          en\n",
       "is_ebook                                                        True\n",
       "Name: 2, dtype: object"
      ]
     },
     "execution_count": 45,
     "metadata": {},
     "output_type": "execute_result"
    }
   ],
   "source": [
    "books_df.loc[2][:]"
   ]
  },
  {
   "cell_type": "code",
   "execution_count": 46,
   "id": "29dbb41f-ee06-4577-b128-0de29f1ed3fe",
   "metadata": {},
   "outputs": [
    {
     "data": {
      "text/plain": [
       "(10, 22)"
      ]
     },
     "execution_count": 46,
     "metadata": {},
     "output_type": "execute_result"
    }
   ],
   "source": [
    "books_df.shape"
   ]
  },
  {
   "cell_type": "code",
   "execution_count": 47,
   "id": "3c19d0cc-f8f4-499b-850b-6fd0ef523a85",
   "metadata": {},
   "outputs": [],
   "source": [
    "books_df.fillna('', inplace=True)"
   ]
  },
  {
   "cell_type": "code",
   "execution_count": 48,
   "id": "b0621273-e24d-4171-99d1-cd96ac822600",
   "metadata": {},
   "outputs": [],
   "source": [
    "#Install MySQL Connector\n",
    "#!pip install mysql-connector-python"
   ]
  },
  {
   "cell_type": "code",
   "execution_count": 49,
   "id": "dc90fa82-5249-488d-ab35-bf4d0f35c054",
   "metadata": {},
   "outputs": [
    {
     "name": "stdout",
     "output_type": "stream",
     "text": [
      "Connected to MySQL database\n"
     ]
    }
   ],
   "source": [
    "#Connect Jupyter Notebook to MySQL:\n",
    "import mysql.connector\n",
    "from mysql.connector import Error\n",
    "\n",
    "# Define the connection parameters\n",
    "host = \"localhost\"        # MySQL server address\n",
    "user = \"root\"    # Your MySQL username\n",
    "password = \"D8g11U77\"  # Your MySQL password\n",
    "database = \"database1\"  # Database name to connect to\n",
    "\n",
    "# Establish a connection\n",
    "try:\n",
    "    # Connect to the MySQL database\n",
    "    connection = mysql.connector.connect(\n",
    "        host=host,\n",
    "        user=user,\n",
    "        password=password,\n",
    "        database=database\n",
    "    )\n",
    "\n",
    "    if connection.is_connected():\n",
    "        print(\"Connected to MySQL database\")\n",
    "        \n",
    "    # Create a cursor to execute SQL queries\n",
    "    cursor = connection.cursor()\n",
    "      \n",
    "except Error as e:\n",
    "    print(f\"Error connecting to MySQL: {e}\")\n",
    "\n",
    "\n"
   ]
  },
  {
   "cell_type": "code",
   "execution_count": 50,
   "id": "775ffdd3-573a-4889-b303-a17f7cb6c988",
   "metadata": {},
   "outputs": [],
   "source": [
    "# Create a cursor to execute SQL queries\n",
    "cursor = connection.cursor()"
   ]
  },
  {
   "cell_type": "code",
   "execution_count": 51,
   "id": "0eaba79d-235f-4c5f-a41d-54186cec56bb",
   "metadata": {},
   "outputs": [
    {
     "name": "stdout",
     "output_type": "stream",
     "text": [
      "Table `books_table` created or already exists.\n"
     ]
    }
   ],
   "source": [
    "# Define the table creation SQL query\n",
    "create_table_query = \"\"\"\n",
    "CREATE TABLE IF NOT EXISTS books_table (\n",
    "    book_id VARCHAR(255) PRIMARY KEY, \n",
    "    search_key VARCHAR(255),         \n",
    "    book_title VARCHAR(255),         \n",
    "    book_subtitle TEXT,              \n",
    "    book_authors TEXT,\n",
    "    book_publisher TEXT,                \n",
    "    industryIdentifiers TEXT,        \n",
    "    text_readingModes BOOLEAN,       \n",
    "    image_readingModes BOOLEAN,\n",
    "    categories TEXT,\n",
    "    published_year INT,\n",
    "    saleability VARCHAR(50),\n",
    "    list_price DECIMAL(10, 2), \n",
    "    currencyCode_listPrice VARCHAR(10), \n",
    "    retail_price DECIMAL(10, 2), \n",
    "    currencyCode_retailPrice VARCHAR(10),\n",
    "    average_rating DECIMAL(3, 2) NULL,\n",
    "    ratings_count INT,\n",
    "    country VARCHAR(10),\n",
    "    page_count INT,                   \n",
    "    language VARCHAR(10),        \n",
    "    is_ebook BOOLEAN    \n",
    ")\n",
    "\"\"\"\n",
    "cursor.execute(create_table_query)\n",
    "print(\"Table `books_table` created or already exists.\")      \n",
    "            \n",
    "         \n"
   ]
  },
  {
   "cell_type": "code",
   "execution_count": 52,
   "id": "b0b7b642-cc5e-42b2-a155-07fa239c44f3",
   "metadata": {},
   "outputs": [
    {
     "name": "stdout",
     "output_type": "stream",
     "text": [
      "10 rows inserted successfully into `books_table`.\n"
     ]
    }
   ],
   "source": [
    "insert_query = \"\"\"\n",
    "INSERT INTO books_table (\n",
    "    book_id, \n",
    "    search_key, \n",
    "    book_title, \n",
    "    book_subtitle, \n",
    "    book_authors, \n",
    "    book_publisher,     \n",
    "    industryIdentifiers, \n",
    "    text_readingModes, \n",
    "    image_readingModes,     \n",
    "    categories,\n",
    "    published_year,          \n",
    "    saleability,      \n",
    "    list_price, \n",
    "    currencyCode_listPrice, \n",
    "    retail_price, \n",
    "    currencyCode_retailPrice,    \n",
    "    average_rating,\n",
    "    ratings_count,     \n",
    "    country,\n",
    "    page_count,\n",
    "    language, \n",
    "    is_ebook\n",
    ") \n",
    "VALUES (%s, %s, %s, %s, %s, %s, %s, %s, %s, %s, %s, %s, %s, %s, %s, %s, %s, %s, %s, %s, %s, %s)\n",
    "\"\"\"\n",
    "\n",
    "# Execute insertion for all rows\n",
    "#for index, row in books_df.iterrows():\n",
    "    #cursor.execute(insert_query, (row['book_id'], row['search_key'], row['book_title'], row['book_subtitle'], row['book_authors'], row['book_publisher'], row['industryIdentifiers'], row['text_readingModes'], row['image_readingModes'], row['categories'], row.get['published_year', ''], row['saleability'], row['list_price'], row['currencyCode_listPrice'], row['retail_price'], row['currencyCode_retailPrice'], row['average_rating'], row['ratings_count'], row['country'], row['page_count'], row['language'], row['is_ebook']))\n",
    "    \n",
    "# Convert DataFrame rows to a list of tuples\n",
    "data_to_insert = books_df.to_records(index=False).tolist()\n",
    "\n",
    "# Execute insertion for all rows\n",
    "cursor.executemany(insert_query, data_to_insert)\n",
    "connection.commit()\n",
    "print(f\"{cursor.rowcount} rows inserted successfully into `books_table`.\")     "
   ]
  },
  {
   "cell_type": "code",
   "execution_count": null,
   "id": "bb0b381a-ca24-44e0-9cae-bf80aef3b21e",
   "metadata": {},
   "outputs": [],
   "source": []
  }
 ],
 "metadata": {
  "kernelspec": {
   "display_name": "base",
   "language": "python",
   "name": "python3"
  },
  "language_info": {
   "codemirror_mode": {
    "name": "ipython",
    "version": 3
   },
   "file_extension": ".py",
   "mimetype": "text/x-python",
   "name": "python",
   "nbconvert_exporter": "python",
   "pygments_lexer": "ipython3",
   "version": "3.12.7"
  }
 },
 "nbformat": 4,
 "nbformat_minor": 5
}
